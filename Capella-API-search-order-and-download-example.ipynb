{
 "cells": [
  {
   "cell_type": "markdown",
   "metadata": {},
   "source": [
    "# DEPRECATED\n",
    "\n",
    "## This method of interacting with the Capella API has been deprecated in favor of the [Capella Console Client](https://github.com/capellaspace/console-client)"
   ]
  },
  {
   "cell_type": "markdown",
   "metadata": {},
   "source": [
    "# Capella API: Search, Order, and Download Tutorial"
   ]
  },
  {
   "cell_type": "code",
   "execution_count": null,
   "metadata": {},
   "outputs": [],
   "source": [
    "# Required libraries:\n",
    "# requests\n",
    "# json\n",
    "# folium"
   ]
  },
  {
   "cell_type": "code",
   "execution_count": null,
   "metadata": {},
   "outputs": [],
   "source": [
    "!pip install folium # skip this if library is already installed"
   ]
  },
  {
   "cell_type": "markdown",
   "metadata": {},
   "source": [
    "Your username and password must be saved in a .json file named 'credentials.json' and formatted as follows.\n",
    "\n",
    "{\"username\": \"yourusername\",\"password\": \"xxxxxxxxx\"}"
   ]
  },
  {
   "cell_type": "markdown",
   "metadata": {},
   "source": [
    "### Import required libraries, build a print utility function, assign API endpoints and load Credentials"
   ]
  },
  {
   "cell_type": "code",
   "execution_count": null,
   "metadata": {},
   "outputs": [],
   "source": [
    "import requests\n",
    "import json\n",
    "\n",
    "# JSON utility function\n",
    "def p(data):\n",
    "    print(json.dumps(data, indent=2))\n",
    "\n",
    "# Capella API endpoints\n",
    "URL = 'https://api.capellaspace.com'\n",
    "token = '/token'\n",
    "collections = '/catalog/collections'\n",
    "catsearch = '/catalog/search'\n",
    "orders = '/orders/'\n",
    "\n",
    "#Load username and password\n",
    "with open('../credentials.json') as f:\n",
    "    data = json.load(f)\n",
    "    username = data['username']\n",
    "    password = data['password']\n",
    "username"
   ]
  },
  {
   "cell_type": "markdown",
   "metadata": {},
   "source": [
    "### Get and Print Access Token"
   ]
  },
  {
   "cell_type": "code",
   "execution_count": null,
   "metadata": {},
   "outputs": [],
   "source": [
    "#Get the token\n",
    "r = requests.post(URL + token, \n",
    "                  headers = {'Content-Type': 'application/x-www-form-urlencoded'}, auth=(username,password))\n",
    "accesstoken = r.json()[\"accessToken\"]\n",
    "\n",
    "print(\"Access Token: \" + accesstoken)\n",
    "# form the headers that will be used in other API calls\n",
    "headers = {'Authorization':'Bearer ' + accesstoken}"
   ]
  },
  {
   "cell_type": "markdown",
   "metadata": {},
   "source": [
    "### Print Available Collections"
   ]
  },
  {
   "cell_type": "code",
   "execution_count": null,
   "metadata": {},
   "outputs": [],
   "source": [
    "# See what collections are available\n",
    "# IMPORTANT: The Capella catalog organizes data into \"collections\" which are logical buckets.\n",
    "#            Not to be confused with the collect which is the acquisition (which has a collect_id)\n",
    "#\n",
    "r = requests.get(URL + collections, headers=headers)\n",
    "\n",
    "# Print the results\n",
    "#p(r.json())"
   ]
  },
  {
   "cell_type": "markdown",
   "metadata": {},
   "source": [
    "### Search the catalog for the desired collect(s)"
   ]
  },
  {
   "cell_type": "code",
   "execution_count": null,
   "metadata": {},
   "outputs": [],
   "source": [
    "# Post search filters\n",
    "# These are optional, but you will need to provide something find what you are interested in.\n",
    "filters = {\n",
    "    # lower left coodinate and upper right coordinate, in decimal degrees\n",
    "    \"bbox\": [150.66736221313477, -33.62605502663527, 150.74323654174805, -33.56228145923039], \n",
    "    # collected time: start date/end date and time in YYYY-MM-DDTHH:MM:SSZ format\n",
    "    \"datetime\": \"2021-05-05T00:00:00Z/2022-05-05T16:30:00Z\",  \n",
    "    # overwrite the default pagination limit of 10, adjust as necessary\n",
    "    \"limit\": 10, \n",
    "    # Optional filter: specify the desired collection such as capella-geo, capella-slc, capella-vessel-detection, etc.\n",
    "    \"collections\": [\"capella-geo\"], \n",
    "    \"sortby\": \"properties.datetime\",\n",
    "    \"product\": {\n",
    "      \"in\": [\n",
    "        \"GEO\",\n",
    "        \"SLC\",\n",
    "        \"VS\"\n",
    "      ]\n",
    "    },\n",
    "    #\n",
    "    # IF YOU KNOW THE collect_id. Then you can just grab it directly. \n",
    "    # See the Capella-API-task-monitor-accepted for how to get a collect id from a task\n",
    "    #\n",
    "    # \"query\": {\n",
    "    #     \"capella:collect_id\": {\n",
    "    #         \"eq\": \"dd3d3be8-fb48-4ebc-afbf-d265f8effdd1\"\n",
    "    #     }\n",
    "    # }\n",
    "}\n",
    "headers = {'Content-Type': 'application/json',\n",
    "  'Accept': 'application/geo+json', 'Authorization':'Bearer ' + accesstoken}\n",
    "r = requests.post(URL + catsearch, json=filters, headers=headers)\n",
    "jresult = r.json()\n",
    "print(\"Found: %s\" % jresult['context']['matched'])\n",
    "# Inspect the results\n",
    "# p(jresults)"
   ]
  },
  {
   "cell_type": "markdown",
   "metadata": {},
   "source": [
    "### Visualize Results on a Map"
   ]
  },
  {
   "cell_type": "code",
   "execution_count": null,
   "metadata": {
    "scrolled": true
   },
   "outputs": [],
   "source": [
    "# Display the results on a folium map\n",
    "import folium\n",
    "\n",
    "loc = [(filters[\"bbox\"][1]+filters[\"bbox\"][3])/2, (filters[\"bbox\"][0]+filters[\"bbox\"][2])/2] \n",
    "f = folium.Figure(width=700, height=200)  #sizing for the cell\n",
    "m = folium.Map(location=loc,zoom_start=9).add_to(f) # create and initialize the map\n",
    "folium.GeoJson(r.text).add_to(m) # add the bbox geometries to the map\n",
    "m.fit_bounds(filters[\"bbox\"])\n",
    "m"
   ]
  },
  {
   "cell_type": "markdown",
   "metadata": {},
   "source": [
    "### Make and Post an Order\n",
    "By placing an order, you will then be granted access to download the assets (images or analytic products)"
   ]
  },
  {
   "cell_type": "code",
   "execution_count": null,
   "metadata": {},
   "outputs": [],
   "source": [
    "# Make an Order\n",
    "features = jresult[\"features\"]\n",
    "granulelist = []\n",
    "\n",
    "# Loop over the features and get what you want from the response \n",
    "# and add to an array for an order\n",
    "# Note: this is a combination of the Collection name and GranduleId \n",
    "#       (not the collect_id which represents the collected data instance. Collection is the catalog \"bucket\")\n",
    "for f in features:\n",
    "    item = {\"CollectionId\": f[\"collection\"], \"GranuleId\": f[\"id\"]}\n",
    "    print(item)\n",
    "    granulelist.append(item)\n",
    "    break # let's just grab one for the example\n",
    "    \n",
    "myorder = {\"Items\": granulelist}\n",
    "myorder"
   ]
  },
  {
   "cell_type": "code",
   "execution_count": null,
   "metadata": {},
   "outputs": [],
   "source": [
    "# Post the order and inspect the result\n",
    "r = requests.post(URL + orders, json=myorder, headers=headers)\n",
    "p(r.json())"
   ]
  },
  {
   "cell_type": "markdown",
   "metadata": {},
   "source": [
    "### Get the STAC records with the signed URLs using the /download endpoint, Print the Result"
   ]
  },
  {
   "cell_type": "code",
   "execution_count": null,
   "metadata": {},
   "outputs": [],
   "source": [
    "myorderid = r.json()[\"orderId\"]\n",
    "r = requests.get(URL + orders + myorderid + '/download', headers=headers)\n",
    "features = r.json()\n",
    "for feature in features:\n",
    "    signed_url = feature[\"assets\"][\"HH\"][\"href\"]\n",
    "    break  #just grabbing one for the example\n",
    "signed_url\n",
    "# p(r.json())"
   ]
  },
  {
   "cell_type": "markdown",
   "metadata": {},
   "source": [
    "### Download the Results"
   ]
  },
  {
   "cell_type": "code",
   "execution_count": null,
   "metadata": {},
   "outputs": [],
   "source": [
    "# Create a local file name using the granuleId - parsed from the signed_url\n",
    "filename = signed_url[signed_url.rfind(\"/\")+1:]\n",
    "sep = \"?\"\n",
    "tif_file_name = filename.split(sep, 1)[0]\n",
    "tif_file_name"
   ]
  },
  {
   "cell_type": "code",
   "execution_count": null,
   "metadata": {},
   "outputs": [],
   "source": [
    "# Download the file\n",
    "import os\n",
    "local_file_name = \"%s/%s\" % (os.getenv(\"HOME\"), tif_file_name)\n",
    "print(\"Downloading to: %s\" % local_file_name)\n",
    "print(\"...\")\n",
    "with requests.get(signed_url, stream=True) as result:\n",
    "    result.raise_for_status()\n",
    "    with open(local_file_name, 'wb') as f:\n",
    "        for chunk in result.iter_content(chunk_size=10000000):\n",
    "            f.write(chunk) \n",
    "print(\"Done!\")"
   ]
  },
  {
   "cell_type": "code",
   "execution_count": null,
   "metadata": {},
   "outputs": [],
   "source": []
  }
 ],
 "metadata": {
  "kernelspec": {
   "display_name": "Python 3 (ipykernel)",
   "language": "python",
   "name": "python3"
  },
  "language_info": {
   "codemirror_mode": {
    "name": "ipython",
    "version": 3
   },
   "file_extension": ".py",
   "mimetype": "text/x-python",
   "name": "python",
   "nbconvert_exporter": "python",
   "pygments_lexer": "ipython3",
   "version": "3.10.11"
  }
 },
 "nbformat": 4,
 "nbformat_minor": 4
}
