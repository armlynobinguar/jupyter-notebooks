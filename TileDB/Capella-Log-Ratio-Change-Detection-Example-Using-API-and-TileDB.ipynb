{
 "cells": [
  {
   "cell_type": "markdown",
   "metadata": {},
   "source": [
    "# Change Detection Example: Log Ratio\n",
    "\n",
    "This example shows how the Capella API can be used to fetch a time series stack of data, read data for a given bounding box directly from TileDB Cloud, and apply a log ratio change detection with an accumulator."
   ]
  },
  {
   "cell_type": "code",
   "execution_count": null,
   "metadata": {},
   "outputs": [],
   "source": [
    "import json\n",
    "\n",
    "from capella import lee_filter\n",
    "\n",
    "from matplotlib import rcParams\n",
    "from matplotlib import pyplot as plt\n",
    "\n",
    "import numpy as np\n",
    "import rasterio\n",
    "from rasterio.merge import merge\n",
    "from rasterio.plot import show\n",
    "from rasterio.warp import transform_bounds\n",
    "from rasterio import windows\n",
    "from rasterio.crs import CRS\n",
    "from skimage import exposure\n",
    "from scipy.ndimage import morphology\n",
    "\n",
    "# Allow division by zero\n",
    "np.seterr(divide='ignore', invalid='ignore')\n",
    "\n",
    "%matplotlib inline"
   ]
  },
  {
   "cell_type": "markdown",
   "metadata": {},
   "source": [
    "### Set up project variables"
   ]
  },
  {
   "cell_type": "code",
   "execution_count": null,
   "metadata": {},
   "outputs": [],
   "source": [
    "with open('filter.json') as f:\n",
    "    filters = json.load(f)\n",
    "    BBOX = filters['bbox']\n",
    "    \n",
    "POINTING = 'right' # or 'left'\n",
    "\n",
    "# Threshold setting for change detection\n",
    "THRSET = 2 \n",
    "\n",
    "# Windows sizes for filtering\n",
    "MORPHWINSIZE = 3 # window size for Morphological filtering\n",
    "FILTSIZE = 3 # window size for speckle filter"
   ]
  },
  {
   "cell_type": "markdown",
   "metadata": {},
   "source": [
    "### Use the API to search for Capella SAR data"
   ]
  },
  {
   "cell_type": "code",
   "execution_count": null,
   "metadata": {},
   "outputs": [],
   "source": [
    "result = ! rio capella --credentials credentials.json --area filter.json --collection capella-aerial --limit 100 query\n",
    "fc = json.loads(result[0])\n",
    "features = fc['features']"
   ]
  },
  {
   "cell_type": "code",
   "execution_count": null,
   "metadata": {},
   "outputs": [],
   "source": [
    "# loop over feature metadata and filter on direction\n",
    "fids = []\n",
    "\n",
    "features=  sorted(features, key = lambda f: f['properties']['datetime'])\n",
    "\n",
    "for ft in features:\n",
    "    fid = f\"tiledb://capellaspace/{ft['id']}\"\n",
    "    with rasterio.open(fid) as src:\n",
    "        tags = src.tags()\n",
    "        img_desc = json.loads(tags['TIFFTAG_IMAGEDESCRIPTION'])\n",
    "        pointing = img_desc['collect']['radar']['pointing']\n",
    "\n",
    "        if pointing == POINTING:\n",
    "            fids.append(fid)"
   ]
  },
  {
   "cell_type": "markdown",
   "metadata": {},
   "source": [
    "### Build a change heatmap from the time series\n",
    "\n",
    "Ingests images as part of a merge function, speckle filters the images, performs log ratio change detection, thresholds and saves detection map into an accumulator, process repeats through all images and builds a heatmap of change"
   ]
  },
  {
   "cell_type": "code",
   "execution_count": null,
   "metadata": {},
   "outputs": [],
   "source": [
    "def logratio(old_data, new_data, old_nodata, new_nodata, index, roff, coff):\n",
    "    # old data is the intersection in the destination for the merge which is either empty or has filtered values already\n",
    "    mask = ~new_nodata[0]\n",
    "    \n",
    "    # set nodata values to zero so as to detect change in these areas\n",
    "    new_data[new_nodata] = 0\n",
    " \n",
    "    new_data[0] = lee_filter(new_data[0], FILTSIZE)\n",
    "    \n",
    "    # check whether old_data has any data\n",
    "    if np.any(old_data[0]):\n",
    "        dIx = np.log(old_data[0] / new_data[0]).astype(old_data.dtype)\n",
    "        # Statistics and thresholding\n",
    "        # Thresholding is empirically derived, requires manual adjustment of THRSET constant\n",
    "        thr = np.nanmean(dIx) + THRSET*np.nanstd(dIx)\n",
    "        dIx[dIx < thr] = 0.0\n",
    "        dIx[dIx > thr] = 1.0\n",
    "\n",
    "        # Morphological opening to reduce false alarms    \n",
    "        w = (MORPHWINSIZE, MORPHWINSIZE)\n",
    "        dIx = morphology.grey_opening(dIx, size=w)\n",
    "\n",
    "        # update change detection band based on changes in the new data mask\n",
    "        old_data[1, mask] += dIx[mask]\n",
    "\n",
    "    # update destination values with filtered data\n",
    "    old_data[0, mask] = new_data[0, mask]\n",
    "  \n",
    "if (len(fids) > 0):\n",
    "    datasets = []\n",
    "    try:\n",
    "        for fid in fids:\n",
    "            datasets.append(rasterio.open(fid))\n",
    "\n",
    "        result, _ = merge(datasets, transform_bounds(CRS.from_epsg(4326), datasets[0].crs, *BBOX),\n",
    "                          nodata=0, output_count=2, method=logratio)\n",
    "        cd = result[1, :, :]\n",
    "    finally:\n",
    "        for ds in datasets:\n",
    "            ds.close()\n",
    "else:\n",
    "    print('No datasets to merge')"
   ]
  },
  {
   "cell_type": "markdown",
   "metadata": {},
   "source": [
    "### Display the change detection result"
   ]
  },
  {
   "cell_type": "code",
   "execution_count": null,
   "metadata": {},
   "outputs": [],
   "source": [
    "# generate context image from mosaic\n",
    "result = ! rio capella --credentials credentials.json --area filter.json --collection rotterdam-aerial-mosaic --limit 1 query\n",
    "fc = json.loads(result[0])\n",
    "ft = fc['features'][0]\n",
    "\n",
    "with rasterio.Env():\n",
    "    fid = f\"tiledb://capellaspace/{ft['id']}\"\n",
    "    with rasterio.open(fid) as src:\n",
    "        native_bounds = transform_bounds(CRS.from_epsg(4326), src.crs, *BBOX)        \n",
    "        bounds_window = src.window(*native_bounds)\n",
    "        bounds_window = bounds_window.intersection(windows.Window(0, 0, src.width, src.height))\n",
    "        ci = lee_filter(src.read(1, window=bounds_window), FILTSIZE)\n",
    "        ci = exposure.adjust_log(ci, gain=10)\n",
    "\n",
    "rcParams['figure.figsize'] = 10,10\n",
    "fig, ax = plt.subplots(1, 2)\n",
    "ax[0].imshow(ci, cmap='gray');\n",
    "ax[0].set_title(\"Context Image\");\n",
    "ax[1].imshow(cd, cmap='jet');\n",
    "ax[1].set_title(\"Change Detection Heatmap\");\n"
   ]
  },
  {
   "cell_type": "code",
   "execution_count": null,
   "metadata": {},
   "outputs": [],
   "source": []
  }
 ],
 "metadata": {
  "kernelspec": {
   "display_name": "Python 3 (ipykernel)",
   "language": "python",
   "name": "python3"
  },
  "language_info": {
   "codemirror_mode": {
    "name": "ipython",
    "version": 3
   },
   "file_extension": ".py",
   "mimetype": "text/x-python",
   "name": "python",
   "nbconvert_exporter": "python",
   "pygments_lexer": "ipython3",
   "version": "3.10.11"
  }
 },
 "nbformat": 4,
 "nbformat_minor": 4
}
