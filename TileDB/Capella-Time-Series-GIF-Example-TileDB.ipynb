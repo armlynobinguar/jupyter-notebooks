{
 "cells": [
  {
   "cell_type": "markdown",
   "metadata": {},
   "source": [
    "# Time Series GIF from GEO Example using TileDB\n",
    "\n",
    "This example shows how the Capella API can be used to fetch a time series stack of data, read data for a given bounding box directly from TileDB arrays, and create a time series gif for visualization. To run this notebook, you will need a Capella API account, with credentials saved in a credentials.json file."
   ]
  },
  {
   "cell_type": "code",
   "execution_count": null,
   "metadata": {},
   "outputs": [],
   "source": [
    "import capella\n",
    "from capella import lee_filter\n",
    "\n",
    "import json\n",
    "\n",
    "from IPython.display import HTML\n",
    "from matplotlib import animation\n",
    "from matplotlib import pyplot as plt\n",
    "from matplotlib import rcParams\n",
    "import numpy as np\n",
    "np.seterr(divide='ignore', invalid='ignore')\n",
    "import rasterio\n",
    "from rasterio.crs import CRS\n",
    "from rasterio.warp import transform_bounds\n",
    "from rasterio.windows import Window\n",
    "from scipy.ndimage.filters import uniform_filter\n",
    "from scipy.ndimage.measurements import variance\n",
    "from skimage import exposure"
   ]
  },
  {
   "cell_type": "markdown",
   "metadata": {},
   "source": [
    "### Set up project variables"
   ]
  },
  {
   "cell_type": "code",
   "execution_count": null,
   "metadata": {},
   "outputs": [],
   "source": [
    "with open('filter-gif.json') as f:\n",
    "    filters = json.load(f)\n",
    "    bbox = filters['bbox']\n",
    "\n",
    "# Windows sizes for filtering\n",
    "FILTSIZE = 3 # window size for speckle filter"
   ]
  },
  {
   "cell_type": "markdown",
   "metadata": {},
   "source": [
    "### Use the API to search for Capella SAR data"
   ]
  },
  {
   "cell_type": "code",
   "execution_count": null,
   "metadata": {},
   "outputs": [],
   "source": [
    "result = ! rio capella --credentials credentials.json --area filter-gif.json --collection rotterdam-aerial-mosaic --limit 50 query\n",
    "fc = json.loads(result[0])\n",
    "features = fc['features']"
   ]
  },
  {
   "cell_type": "markdown",
   "metadata": {},
   "source": [
    "### Build a time series animation from the time series\n",
    "\n",
    "Ingests the stack of images ordered from the API and assembles a time series animation"
   ]
  },
  {
   "cell_type": "code",
   "execution_count": null,
   "metadata": {},
   "outputs": [],
   "source": [
    "# sort the features by datetime and create a timeseries stack\n",
    "timeseries = []\n",
    "features =  sorted(features, key = lambda f: f['properties']['datetime'])\n",
    "\n",
    "rcParams['figure.figsize'] = 10, 5\n",
    "\n",
    "fig = plt.figure(\"Time Series\")\n",
    "ax = fig.add_subplot(111)\n",
    "\n",
    "for idx, f in enumerate(features):\n",
    "    with rasterio.open(f\"tiledb://capellaspace/{f['id']}\") as src:\n",
    "        meta = src.meta\n",
    "        native_bounds = transform_bounds(CRS.from_epsg(4326), src.crs, *bbox)        \n",
    "        bounds_window = src.window(*native_bounds)\n",
    "        bounds_window = bounds_window.intersection(Window(0, 0, src.width, src.height))\n",
    "\n",
    "        img = src.read(1, window=bounds_window)\n",
    "\n",
    "        img[img == meta['nodata']] = 0\n",
    "        img = lee_filter(img, FILTSIZE)\n",
    "        img = exposure.adjust_log(img, gain=10)\n",
    "\n",
    "        frame =  ax.imshow(img, cmap='gray')   \n",
    "        t = ax.annotate(f[\"properties\"][\"datetime\"], (10, 50), color='red', fontsize=15) # add text\n",
    "        timeseries.append([frame, t])\n",
    "\n",
    "anim = animation.ArtistAnimation(fig, timeseries, interval=350, blit=True, repeat_delay=350)\n",
    "plt.close()\n",
    "HTML(anim.to_html5_video())"
   ]
  },
  {
   "cell_type": "code",
   "execution_count": null,
   "metadata": {},
   "outputs": [],
   "source": [
    "anim.save('animation.gif', writer='imagemagick', fps=5)"
   ]
  },
  {
   "cell_type": "code",
   "execution_count": null,
   "metadata": {},
   "outputs": [],
   "source": []
  }
 ],
 "metadata": {
  "kernelspec": {
   "display_name": "Python 3 (ipykernel)",
   "language": "python",
   "name": "python3"
  },
  "language_info": {
   "codemirror_mode": {
    "name": "ipython",
    "version": 3
   },
   "file_extension": ".py",
   "mimetype": "text/x-python",
   "name": "python",
   "nbconvert_exporter": "python",
   "pygments_lexer": "ipython3",
   "version": "3.10.11"
  }
 },
 "nbformat": 4,
 "nbformat_minor": 4
}
