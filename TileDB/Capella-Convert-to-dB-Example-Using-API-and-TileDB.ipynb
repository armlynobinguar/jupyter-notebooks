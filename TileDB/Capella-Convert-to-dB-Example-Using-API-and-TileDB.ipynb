{
 "cells": [
  {
   "cell_type": "code",
   "execution_count": null,
   "metadata": {},
   "outputs": [],
   "source": [
    "import json\n",
    "\n",
    "from matplotlib import pyplot\n",
    "import numpy as np\n",
    "import rasterio\n",
    "from rasterio.plot import show\n",
    "from rasterio.warp import transform_bounds\n",
    "from rasterio.windows import Window\n",
    "from rasterio.crs import CRS\n",
    "\n",
    "np.seterr(divide='ignore', invalid='ignore')\n",
    "\n",
    "%matplotlib inline"
   ]
  },
  {
   "cell_type": "code",
   "execution_count": null,
   "metadata": {},
   "outputs": [],
   "source": [
    "with open('filter.json') as f:\n",
    "    filters = json.load(f)\n",
    "    bbox = filters['bbox']"
   ]
  },
  {
   "cell_type": "code",
   "execution_count": null,
   "metadata": {},
   "outputs": [],
   "source": [
    "result = ! rio capella --credentials credentials.json --area filter.json --collection capella-aerial --limit 10 query\n",
    "fc = json.loads(result[0])\n",
    "ft = fc['features'][0]"
   ]
  },
  {
   "cell_type": "code",
   "execution_count": null,
   "metadata": {},
   "outputs": [],
   "source": [
    "with rasterio.Env():\n",
    "    # use first result feature id as an example\n",
    "    fid =  f\"tiledb://capellaspace/{ft['id']}\"\n",
    "\n",
    "    with rasterio.open(fid) as src:        \n",
    "        meta = src.meta\n",
    "        tags = src.tags()\n",
    "        \n",
    "        native_bounds = transform_bounds(CRS.from_epsg(4326), src.crs, *bbox)        \n",
    "        bounds_window = src.window(*native_bounds)\n",
    "        bounds_window = bounds_window.intersection(Window(0, 0, src.width, src.height))\n",
    "        \n",
    "        img = src.read(1, window=bounds_window)\n",
    "\n",
    "        img[img == meta['nodata']] = 0\n",
    "        \n",
    "        img_desc = json.loads(tags['TIFFTAG_IMAGEDESCRIPTION'])\n",
    "        sf = img_desc['collect']['image']['scale_factor']\n",
    "        \n",
    "        scale = 1/float(sf)\n",
    "        scl_img = img/scale\n",
    "        \n",
    "        db_img = 20*np.log10(scl_img)\n",
    "        \n",
    "        fig, ax = pyplot.subplots(1, 1, figsize=(21,7))\n",
    "        ax.set_xlabel('X')\n",
    "        ax.set_ylabel('Y')\n",
    "        show(db_img, ax=ax, cmap='gray', title=ft['id'])\n"
   ]
  },
  {
   "cell_type": "code",
   "execution_count": null,
   "metadata": {},
   "outputs": [],
   "source": []
  }
 ],
 "metadata": {
  "kernelspec": {
   "display_name": "Python 3 (ipykernel)",
   "language": "python",
   "name": "python3"
  },
  "language_info": {
   "codemirror_mode": {
    "name": "ipython",
    "version": 3
   },
   "file_extension": ".py",
   "mimetype": "text/x-python",
   "name": "python",
   "nbconvert_exporter": "python",
   "pygments_lexer": "ipython3",
   "version": "3.10.11"
  }
 },
 "nbformat": 4,
 "nbformat_minor": 4
}
