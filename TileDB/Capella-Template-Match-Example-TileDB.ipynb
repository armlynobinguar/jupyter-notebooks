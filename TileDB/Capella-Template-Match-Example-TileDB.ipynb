{
 "cells": [
  {
   "cell_type": "code",
   "execution_count": null,
   "metadata": {},
   "outputs": [],
   "source": [
    "from capella import lee_filter\n",
    "import numpy as np\n",
    "from scipy.ndimage.filters import uniform_filter, minimum_filter, maximum_filter, median_filter\n",
    "from scipy.ndimage.measurements import variance\n",
    "from matplotlib import pyplot as plt \n",
    "from skimage import io\n",
    "from skimage.feature import peak_local_max, match_template\n",
    "from skimage.color import rgb2gray\n",
    "import math"
   ]
  },
  {
   "cell_type": "code",
   "execution_count": null,
   "metadata": {},
   "outputs": [],
   "source": [
    "def stretch(bands, lower_percent=2, higher_percent=98):\n",
    "    np.ma.array(bands, mask=np.isnan(bands))\n",
    "    out = np.zeros_like(bands)\n",
    "    a = 0 \n",
    "    b = 255 \n",
    "    c = np.percentile(bands, lower_percent)\n",
    "    d = np.percentile(bands, higher_percent)        \n",
    "    t = a + (bands - c) * (b - a) / (d - c)    \n",
    "    t[t<a] = a\n",
    "    t[t>b] = b\n",
    "    out = t\n",
    "    return out.astype(np.uint8)"
   ]
  },
  {
   "cell_type": "code",
   "execution_count": null,
   "metadata": {},
   "outputs": [],
   "source": [
    "def check_grayscale(img):\n",
    "    if len(img.shape) > 2:\n",
    "        img_gry = rgb2gray(img)\n",
    "    else:\n",
    "        img_gry = img\n",
    "        \n",
    "    return img_gry "
   ]
  },
  {
   "cell_type": "code",
   "execution_count": null,
   "metadata": {},
   "outputs": [],
   "source": [
    "image = io.imread('test_sar_band_1.jpg')\n",
    "template = io.imread('test_sar_band_1_template.jpg')\n",
    "\n",
    "# Convert to grayscale\n",
    "imageGray = check_grayscale(image)\n",
    "templateGray = check_grayscale(template)\n",
    "w, h = templateGray.shape[::-1]\n",
    "\n",
    "# despeckle images\n",
    "filtsize = 3\n",
    "imageGray = lee_filter(imageGray, filtsize).astype(np.float32) \n",
    "templateGray = lee_filter(templateGray, filtsize).astype(np.float32) \n",
    "\n",
    "result = np.squeeze(match_template(imageGray, templateGray))\n",
    "\n",
    "peaks = peak_local_max(result, threshold_abs=0.5, min_distance=3)\n",
    "\n",
    "fig = plt.figure(figsize=(15, 15))\n",
    "ax1 = plt.subplot(1, 3, 1)\n",
    "ax2 = plt.subplot(1, 3, 2)\n",
    "ax3 = plt.subplot(1, 3, 3, sharex=ax2, sharey=ax2)\n",
    "\n",
    "ax1.imshow(templateGray, cmap=plt.cm.gray)\n",
    "ax1.set_axis_off()\n",
    "ax1.set_title('template')\n",
    "\n",
    "ax2.imshow(imageGray, cmap=plt.cm.gray)\n",
    "ax2.set_axis_off()\n",
    "ax2.set_title('image')\n",
    "\n",
    "# highlight matched regions\n",
    "h_match, w_match = templateGray.shape\n",
    "for pk in peaks:\n",
    "    rect = plt.Rectangle((pk[1], pk[0]), w_match, h_match, edgecolor='r', facecolor='none')\n",
    "    ax2.add_patch(rect)\n",
    "    ax3.plot(pk[1], pk[0], 'o', markeredgecolor='r', markerfacecolor='none', markersize=10)\n",
    "\n",
    "ax3.imshow(result)\n",
    "ax3.set_axis_off()\n",
    "ax3.set_title('`match template`\\nresult')\n",
    "ax3.autoscale(False)\n",
    "\n",
    "plt.show()\n",
    "\n",
    "print(f\"Matched {len(peaks)}\")\n"
   ]
  },
  {
   "cell_type": "code",
   "execution_count": null,
   "metadata": {},
   "outputs": [],
   "source": []
  }
 ],
 "metadata": {
  "kernelspec": {
   "display_name": "Python 3 (ipykernel)",
   "language": "python",
   "name": "python3"
  },
  "language_info": {
   "codemirror_mode": {
    "name": "ipython",
    "version": 3
   },
   "file_extension": ".py",
   "mimetype": "text/x-python",
   "name": "python",
   "nbconvert_exporter": "python",
   "pygments_lexer": "ipython3",
   "version": "3.10.11"
  }
 },
 "nbformat": 4,
 "nbformat_minor": 4
}
