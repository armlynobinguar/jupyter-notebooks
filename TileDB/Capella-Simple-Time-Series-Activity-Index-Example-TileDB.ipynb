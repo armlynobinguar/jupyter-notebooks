{
 "cells": [
  {
   "cell_type": "markdown",
   "metadata": {},
   "source": [
    "# Simple Time Series Activity Index Example\n",
    "\n",
    "This example shows how the Capella API can be used to fetch a time series stack of data, read data for a given AOI using Rasterio masks directly from cloud optimized geotiffs stored in Capella's S3 bucket, examine the histogram, use Otsu thresholding to count the number of bright pixels for each image in the time series, and plot the normalized count over time to give an indication of activity. \n",
    "\n",
    "To run this notebook, you will need a Capella API account, with credentials saved in a credentials.json file."
   ]
  },
  {
   "cell_type": "code",
   "execution_count": null,
   "metadata": {},
   "outputs": [],
   "source": [
    "import capella\n",
    "from capella import lee_filter\n",
    "\n",
    "import json\n",
    "\n",
    "import folium\n",
    "from IPython.display import HTML\n",
    "from matplotlib import animation\n",
    "from matplotlib.animation import FuncAnimation\n",
    "from matplotlib import pyplot as plt\n",
    "from matplotlib import rcParams\n",
    "import numpy as np\n",
    "np.seterr(divide='ignore', invalid='ignore')\n",
    "import rasterio\n",
    "from rasterio.plot import show_hist\n",
    "from rasterio.plot import show\n",
    "from rasterio.windows import Window\n",
    "from rasterio import warp\n",
    "from rasterio import mask\n",
    "from scipy.ndimage.filters import uniform_filter\n",
    "from scipy.ndimage.measurements import variance\n",
    "from skimage import exposure\n",
    "from skimage import filters"
   ]
  },
  {
   "cell_type": "markdown",
   "metadata": {},
   "source": [
    "### Set up project variables"
   ]
  },
  {
   "cell_type": "code",
   "execution_count": null,
   "metadata": {},
   "outputs": [],
   "source": [
    "with open('filter-timeseries.json') as f:\n",
    "    filter = json.load(f)\n",
    "    aoi = filter['geometry']\n",
    "\n",
    "# Windows sizes for filtering\n",
    "FILTSIZE = 3 # window size for speckle filter"
   ]
  },
  {
   "cell_type": "markdown",
   "metadata": {},
   "source": [
    "### Inspect the AOI on a map\n",
    "\n",
    "The AOI used for this demonstration is a container staging area at DFDS Seaways B.V. terminal in the port of Rotterdam"
   ]
  },
  {
   "cell_type": "code",
   "execution_count": null,
   "metadata": {},
   "outputs": [],
   "source": [
    "# Display the results on a folium map\n",
    "m = folium.Map(location=[51.90911331244101, 4.364436864852905],zoom_start=15)\n",
    "folium.GeoJson(\n",
    "    aoi,\n",
    "    name='AOI'\n",
    ").add_to(m)\n",
    "\n",
    "m"
   ]
  },
  {
   "cell_type": "markdown",
   "metadata": {},
   "source": [
    "### Use the API to search for Capella SAR data"
   ]
  },
  {
   "cell_type": "code",
   "execution_count": null,
   "metadata": {},
   "outputs": [],
   "source": [
    "result = ! rio capella --credentials credentials.json --area filter-gif.json --collection rotterdam-aerial-mosaic --limit 50 query\n",
    "fc = json.loads(result[0])\n",
    "features = fc['features']"
   ]
  },
  {
   "cell_type": "code",
   "execution_count": null,
   "metadata": {},
   "outputs": [],
   "source": [
    "# Sort the results in time\n",
    "features =  sorted(features, key = lambda f: f['properties']['datetime'])"
   ]
  },
  {
   "cell_type": "markdown",
   "metadata": {},
   "source": [
    "### Open the first image in the time series and inspect the histogram\n",
    "\n",
    "To find the right threshold between dark and bright pixels, we can inspect the histogram for the masked area.\n",
    "\n",
    "Note that the AOI mask is being used to read only pixels within the AOI"
   ]
  },
  {
   "cell_type": "code",
   "execution_count": null,
   "metadata": {},
   "outputs": [],
   "source": [
    "# Open the file with Rasterio\n",
    "f= features[0]\n",
    "with rasterio.open(f\"tiledb://capellaspace/{f['id']}\") as src:\n",
    "    meta = src.meta\n",
    "    roi_polygon_src_coords = warp.transform_geom({'init': 'epsg:4326'}, src.crs, aoi)\n",
    "    out_image, out_transform = mask.mask(src, [roi_polygon_src_coords], crop=True)\n",
    "    out_image[out_image == meta['nodata']] = 0\n",
    "\n",
    "thresh = filters.threshold_otsu(out_image) #Use Otsu to set a threshold\n",
    "plt.hist(out_image.ravel(),bins=256, range=(out_image.min(), out_image.max()), fc='k', ec='k')\n",
    "plt.axvline(thresh, color='k', ls='--')\n",
    "plt.title(\"Histogram\")\n",
    "plt.ylabel('Pixel Count')\n",
    "plt.xlabel('DN')\n",
    "plt.show()"
   ]
  },
  {
   "cell_type": "markdown",
   "metadata": {},
   "source": [
    "### Set a threshold and count pixels above the threshold\n",
    "\n",
    "We can now set a threshold and for each image in the time series count the number of pixels above the threshold."
   ]
  },
  {
   "cell_type": "code",
   "execution_count": null,
   "metadata": {},
   "outputs": [],
   "source": [
    "activity = {}\n",
    "\n",
    "for f in features:\n",
    "    with rasterio.open(f\"tiledb://capellaspace/{f['id']}\") as src:\n",
    "        meta = src.meta\n",
    "        roi_polygon_src_coords = warp.transform_geom({'init': 'epsg:4326'}, src.crs,aoi)\n",
    "        out_image, out_transform = mask.mask(src,[roi_polygon_src_coords], crop=True)\n",
    "        out_image[out_image == meta['nodata']] = 0\n",
    "        thresh1 = np.where(out_image > thresh, 70000, 0)\n",
    "        activity.update( {f['properties']['datetime'] : np.count_nonzero(thresh1)} )\n",
    "\n",
    "lists = sorted(activity.items())\n",
    "x, y = zip(*lists) # unpack a list of pairs into two tuples\n",
    "y = list(y)\n",
    "y = [(i - min(y)) / (max(y) - min(y)) for i in y] # normalize the pixel values to an index\n",
    "y = tuple(y)"
   ]
  },
  {
   "cell_type": "code",
   "execution_count": null,
   "metadata": {},
   "outputs": [],
   "source": [
    "fix, ax = plt.subplots()\n",
    "\n",
    "ax.set_title('Activity Over Time')\n",
    "ax.set_ylabel('Activity Index')\n",
    "ax.set_xticklabels(x, rotation=70)\n",
    "ax.plot(x, y)\n",
    "plt.show()"
   ]
  },
  {
   "cell_type": "markdown",
   "metadata": {},
   "source": [
    "### Compare the activity graph to the time series imagery\n",
    "\n",
    "We can now inspect the imagery to see if the activity shown in the graph correlates with the imagery. The bright yellow blobs in the imagery are shipping containers in this case. "
   ]
  },
  {
   "cell_type": "code",
   "execution_count": null,
   "metadata": {},
   "outputs": [],
   "source": [
    "# Show the imagery alongside the graph for validation\n",
    "timeseries = []\n",
    "\n",
    "rcParams['figure.figsize'] = 12, 8\n",
    "\n",
    "fig, (ax1, ax2) = plt.subplots(1, 2)\n",
    "\n",
    "ax1.set_title('Activity over Time')\n",
    "ax1.set_ylabel('Activity Index')\n",
    "ax1.set_xticklabels(x, rotation=70)\n",
    "ax2.set_title('SAR image')\n",
    "activity, = ax1.plot(x, y)\n",
    "\n",
    "\n",
    "for idx, f in enumerate(features):\n",
    "    with rasterio.open(f\"tiledb://capellaspace/{f['id']}\") as src:\n",
    "        timestamp = f['properties']['datetime']\n",
    "        meta = src.meta\n",
    "        roi_polygon_src_coords = warp.transform_geom({'init': 'epsg:4326'}, src.crs,aoi)\n",
    "        out_img, out_transform = mask.mask(src, [roi_polygon_src_coords], crop=True, indexes=1)\n",
    "        out_img[out_img == meta['nodata']] = 0\n",
    "        out_img = lee_filter(out_img, FILTSIZE)\n",
    "        out_img = exposure.adjust_log(out_img, gain=10)\n",
    "    \n",
    "        out_img_min = out_img.min()\n",
    "        out_img_max = out_img.max()\n",
    "        out_img_scaled = (out_img - out_img_min) / (out_img_max - out_img_min) * 255\n",
    "\n",
    "        marker, = ax1.plot(x[idx], y[idx], 'ro')\n",
    "        frame =  ax2.imshow(out_img_scaled, cmap='gray')\n",
    "        t = ax2.annotate(f[\"properties\"][\"datetime\"], (10, 10), color='red', fontsize=15) # add text\n",
    "        timeseries.append([activity, marker, frame, t])\n",
    "\n",
    "anim = animation.ArtistAnimation(fig, timeseries, interval=350, blit=True, repeat_delay=350)\n",
    "plt.close()\n",
    "HTML(anim.to_html5_video())"
   ]
  },
  {
   "cell_type": "code",
   "execution_count": null,
   "metadata": {},
   "outputs": [],
   "source": [
    "anim.save('animation.gif', writer='imagemagick', fps=5)"
   ]
  },
  {
   "cell_type": "code",
   "execution_count": null,
   "metadata": {},
   "outputs": [],
   "source": []
  }
 ],
 "metadata": {
  "kernelspec": {
   "display_name": "Python 3 (ipykernel)",
   "language": "python",
   "name": "python3"
  },
  "language_info": {
   "codemirror_mode": {
    "name": "ipython",
    "version": 3
   },
   "file_extension": ".py",
   "mimetype": "text/x-python",
   "name": "python",
   "nbconvert_exporter": "python",
   "pygments_lexer": "ipython3",
   "version": "3.10.11"
  }
 },
 "nbformat": 4,
 "nbformat_minor": 4
}
