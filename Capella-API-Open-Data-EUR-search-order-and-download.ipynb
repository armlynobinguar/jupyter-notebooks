{
 "cells": [
  {
   "cell_type": "markdown",
   "metadata": {},
   "source": [
    "# Capella API: Search, Order, and Download Open Data Europe Region"
   ]
  },
  {
   "cell_type": "code",
   "execution_count": null,
   "metadata": {},
   "outputs": [],
   "source": [
    "# Required libraries:\n",
    "# requests\n",
    "# json\n",
    "# urllib"
   ]
  },
  {
   "cell_type": "markdown",
   "metadata": {},
   "source": [
    "Your username and password must be saved in a .json file named 'credentials.json' and formatted as follows.\n",
    "\n",
    "{\"username\": \"yourusername\",\"password\": \"xxxxxxxxx\"}"
   ]
  },
  {
   "cell_type": "markdown",
   "metadata": {},
   "source": [
    "### Set up Project Variables"
   ]
  },
  {
   "cell_type": "code",
   "execution_count": null,
   "metadata": {},
   "outputs": [],
   "source": [
    "data_collection = [\"capella-open-data\"]\n",
    "# Europe AOI\n",
    "aoi = {\n",
    "        \"type\": \"Polygon\",\n",
    "        \"coordinates\": [\n",
    "          [\n",
    "            [\n",
    "              -33.046875,\n",
    "              83.7539108491127\n",
    "            ],\n",
    "            [\n",
    "              -53.4375,\n",
    "              83.40004205976699\n",
    "            ],\n",
    "            [\n",
    "              -64.6875,\n",
    "              81.72318761821155\n",
    "            ],\n",
    "            [\n",
    "              -73.828125,\n",
    "              79.03843742487174\n",
    "            ],\n",
    "            [\n",
    "              -71.3671875,\n",
    "              75.23066741281573\n",
    "            ],\n",
    "            [\n",
    "              -55.54687499999999,\n",
    "              58.99531118795094\n",
    "            ],\n",
    "            [\n",
    "              -12.65625,\n",
    "              36.31512514748051\n",
    "            ],\n",
    "            [\n",
    "              24.609375,\n",
    "              34.88593094075317\n",
    "            ],\n",
    "            [\n",
    "              150.46875,\n",
    "              42.293564192170095\n",
    "            ],\n",
    "            [\n",
    "              190.546875,\n",
    "              62.103882522897855\n",
    "            ],\n",
    "            [\n",
    "              187.3828125,\n",
    "              72.71190310803662\n",
    "            ],\n",
    "            [\n",
    "              100.8984375,\n",
    "              81.46626086056541\n",
    "            ],\n",
    "            [\n",
    "              -14.0625,\n",
    "              83.4803661137381\n",
    "            ],\n",
    "            [\n",
    "              -33.046875,\n",
    "              83.7539108491127\n",
    "            ]\n",
    "          ]\n",
    "        ]\n",
    "      }"
   ]
  },
  {
   "cell_type": "markdown",
   "metadata": {},
   "source": [
    "### Import required libraries, build a print utility function, assign API endpoints and load Credentials"
   ]
  },
  {
   "cell_type": "code",
   "execution_count": null,
   "metadata": {},
   "outputs": [],
   "source": [
    "import requests\n",
    "import json\n",
    "\n",
    "# JSON utility function\n",
    "def p(data):\n",
    "    print(json.dumps(data, indent=2))\n",
    "\n",
    "# Capella API endpoints\n",
    "URL = 'https://api.capellaspace.com'\n",
    "token = '/token'\n",
    "collections = '/catalog/collections'\n",
    "catsearch = '/catalog/search'\n",
    "orders = '/orders/'\n",
    "\n",
    "#Load username and password\n",
    "with open('credentials.json') as f:\n",
    "    data = json.load(f)\n",
    "    username = data['username']\n",
    "    password = data['password']"
   ]
  },
  {
   "cell_type": "markdown",
   "metadata": {},
   "source": [
    "### Get and Print Access Token"
   ]
  },
  {
   "cell_type": "code",
   "execution_count": null,
   "metadata": {},
   "outputs": [],
   "source": [
    "#Get the token\n",
    "r = requests.post(URL + token, \n",
    "                  headers = {'Content-Type': 'application/x-www-form-urlencoded'}, auth=(username,password))\n",
    "\n",
    "accesstoken = r.json()[\"accessToken\"]\n",
    "\n",
    "# Print the token\n",
    "#print(\"Access Token: \" + accesstoken)\n",
    "\n",
    "headers = {'Authorization':'Bearer ' + accesstoken}"
   ]
  },
  {
   "cell_type": "markdown",
   "metadata": {},
   "source": [
    "### Print Available Collections"
   ]
  },
  {
   "cell_type": "code",
   "execution_count": null,
   "metadata": {},
   "outputs": [],
   "source": [
    "# See what collections are available\n",
    "r = requests.get(URL + collections, headers=headers)\n",
    "\n",
    "# Print the results\n",
    "#p(r.json())"
   ]
  },
  {
   "cell_type": "markdown",
   "metadata": {},
   "source": [
    "### Post Search Filters, Print the Results"
   ]
  },
  {
   "cell_type": "code",
   "execution_count": null,
   "metadata": {},
   "outputs": [],
   "source": [
    "# Post search filters\n",
    "filters = {\n",
    "  #\"bbox\": [-180,-90,180,90], # lower left coodinate and upper right coordinate, in decimal degrees\n",
    "  \"intersects\": aoi,\n",
    "  \"limit\": 1000, # overwrite the default pagination limit of 10, adjust as necessary\n",
    "  \"collections\": data_collection, #[\"capella-open-data\"], # specify the desired collection  \"sentinel-s1-l2\"\n",
    "  \"sortby\": \"properties.datetime\"\n",
    "}\n",
    "\n",
    "headers = {'Content-Type': 'application/json',\n",
    "  'Accept': 'application/geo+json', 'Authorization':'Bearer ' + accesstoken}\n",
    "r = requests.post(URL + catsearch, json=filters, headers=headers)\n",
    "\n",
    "# Inspect the results\n",
    "#p(r.json())"
   ]
  },
  {
   "cell_type": "markdown",
   "metadata": {},
   "source": [
    "### Make and Post an Order"
   ]
  },
  {
   "cell_type": "code",
   "execution_count": null,
   "metadata": {},
   "outputs": [],
   "source": [
    "# Make an Order\n",
    "features = r.json()[\"features\"]\n",
    "granulelist = []\n",
    "\n",
    "# Loop over all the features from the response and add to an array for an order\n",
    "for f in features:\n",
    "    item = {\"CollectionId\": f[\"collection\"], \"GranuleId\": f[\"id\"]}\n",
    "    granulelist.append(item)\n",
    "\n",
    "cnt = len(features)\n",
    "print(cnt)\n",
    "myorder = {\"Items\": granulelist}\n",
    "# Post the order and inspect the result\n",
    "r = requests.post(URL + orders, json=myorder, headers=headers)\n",
    "#p(r.json())"
   ]
  },
  {
   "cell_type": "markdown",
   "metadata": {},
   "source": [
    "### Get the STAC records with the signed URLs using the /download endpoint, Print the Result"
   ]
  },
  {
   "cell_type": "code",
   "execution_count": null,
   "metadata": {},
   "outputs": [],
   "source": [
    "myorderid = r.json()[\"orderId\"]\n",
    "r = requests.get(URL + orders + myorderid + '/download', headers=headers)\n",
    "#p(r.json())"
   ]
  },
  {
   "cell_type": "markdown",
   "metadata": {},
   "source": [
    "### Download the Results"
   ]
  },
  {
   "cell_type": "code",
   "execution_count": null,
   "metadata": {},
   "outputs": [],
   "source": [
    "features = r.json()\n",
    "     \n",
    "basefp = 'C:/data/open_data/' # Local directory to save data\n",
    "\n",
    "for feature in features:\n",
    "           \n",
    "    filepath = feature[\"assets\"][\"HH\"][\"href\"] # the second nested dictionary (\"HH\" here) must be changed for different assets\n",
    "    # e.g. filepath = feature[\"assets\"][\"metadata\"][\"href\"] will return the url for the metadata file\n",
    "\n",
    "    filename = filepath[filepath.rfind(\"/\")+1:]\n",
    "    sep = \"?\"\n",
    "    truncname = filename.split(sep, 1)[0]\n",
    "    outfp = basefp + truncname\n",
    "\n",
    "    import urllib\n",
    "    f = urllib.request.urlretrieve(filepath, outfp)\n",
    "    with requests.get(filepath, stream=True) as result:\n",
    "        result.raise_for_status()\n",
    "        with open(outfp, 'wb') as f:\n",
    "            for chunk in result.iter_content(chunk_size=10000000):\n",
    "                f.write(chunk)      "
   ]
  },
  {
   "cell_type": "code",
   "execution_count": null,
   "metadata": {},
   "outputs": [],
   "source": []
  }
 ],
 "metadata": {
  "kernelspec": {
   "display_name": "Python 3",
   "language": "python",
   "name": "python3"
  },
  "language_info": {
   "codemirror_mode": {
    "name": "ipython",
    "version": 3
   },
   "file_extension": ".py",
   "mimetype": "text/x-python",
   "name": "python",
   "nbconvert_exporter": "python",
   "pygments_lexer": "ipython3",
   "version": "3.7.6"
  }
 },
 "nbformat": 4,
 "nbformat_minor": 4
}
