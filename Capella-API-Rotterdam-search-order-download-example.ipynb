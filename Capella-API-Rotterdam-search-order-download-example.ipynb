{
 "cells": [
  {
   "cell_type": "markdown",
   "metadata": {},
   "source": [
    "# API Demo: Search, Order, and Download Capella's Rotterdam Data Set"
   ]
  },
  {
   "cell_type": "markdown",
   "metadata": {},
   "source": [
    "Capella has collected two AOIs - 10 x 5 km each. Each AOI will be covered from 8am to 8pm over two days, \n",
    "6 times each day to simulate roughly two hour revisit at very high resolution. \n",
    "The main features in the AOIs are: the port, ships (tankers and commercials), shipping containers, cars,\n",
    "parking lot, stadium, train rails, floating oil tanks, downtown, vegetated areas. \n",
    "Imagery is be generated using backprojection in map coordinates."
   ]
  },
  {
   "cell_type": "code",
   "execution_count": null,
   "metadata": {},
   "outputs": [],
   "source": [
    "# Required libraries:\n",
    "# requests\n",
    "# json\n",
    "# urllib"
   ]
  },
  {
   "cell_type": "markdown",
   "metadata": {},
   "source": [
    "Your username and password must be saved in a .json file named 'credentials.json' and formatted as follows.\n",
    "\n",
    "{\"username\": \"yourusername\",\"password\": \"xxxxxxxxx\"}"
   ]
  },
  {
   "cell_type": "markdown",
   "metadata": {},
   "source": [
    "### Import required libraries, build a print utility function, assign API endpoints and load Credentials"
   ]
  },
  {
   "cell_type": "code",
   "execution_count": null,
   "metadata": {},
   "outputs": [],
   "source": [
    "import requests\n",
    "import json\n",
    "\n",
    "# JSON utility function\n",
    "def p(data):\n",
    "    print(json.dumps(data, indent=2))\n",
    "\n",
    "# Capella API endpoints\n",
    "URL = 'https://api.capellaspace.com'\n",
    "token = '/token'\n",
    "collections = '/catalog/collections'\n",
    "catsearch = '/catalog/search'\n",
    "orders = '/orders/'\n",
    "\n",
    "# Load my username and password\n",
    "with open('credentials.json') as f:\n",
    "    data = json.load(f)\n",
    "    username = data['username']\n",
    "    password = data['password']"
   ]
  },
  {
   "cell_type": "markdown",
   "metadata": {},
   "source": [
    "### Get and Print Access Token"
   ]
  },
  {
   "cell_type": "code",
   "execution_count": null,
   "metadata": {
    "scrolled": true
   },
   "outputs": [],
   "source": [
    "# Get the token \n",
    "r = requests.post(URL + token, \n",
    "                  headers = {'Content-Type': 'application/x-www-form-urlencoded'}, auth=(username,password))\n",
    "\n",
    "accesstoken = r.json()[\"accessToken\"]\n",
    "\n",
    "# Print the token\n",
    "print(\"Access Token: \" + accesstoken)\n",
    "\n",
    "headers = {'Authorization':'Bearer ' + accesstoken}"
   ]
  },
  {
   "cell_type": "markdown",
   "metadata": {},
   "source": [
    "### Print Available Collections"
   ]
  },
  {
   "cell_type": "code",
   "execution_count": null,
   "metadata": {},
   "outputs": [],
   "source": [
    "# See what collections are available\n",
    "r = requests.get(URL + collections, headers=headers)\n",
    "\n",
    "# Print results\n",
    "#p(r.json())\n"
   ]
  },
  {
   "cell_type": "markdown",
   "metadata": {},
   "source": [
    "### Post Search Filters for Rotterdam data set, Print the Results"
   ]
  },
  {
   "cell_type": "code",
   "execution_count": null,
   "metadata": {
    "scrolled": true
   },
   "outputs": [],
   "source": [
    "# Filters \n",
    "filters = {\n",
    "  \"datetime\": \"2019-08-01T00:00:00Z/2019-08-31T12:31:12Z\",\n",
    "  \"limit\": 50, # overwrite the default pagination limit of 10, adjust as necessary\n",
    "  \"collections\": [\"capella-aerial\"], # specify the desired collection\n",
    "  \"query\": {\"sar:product_type\": {\"eq\":\"GEO\"},\n",
    "            \"sar:polarizations\": {\"eq\":\"HH\"}},  \n",
    "  \"sortby\": \"properties.datetime\",\n",
    "  \n",
    "}\n",
    "headers = {'Content-Type': 'application/json',\n",
    "  'Accept': 'application/geo+json', 'Authorization':'Bearer ' + accesstoken}\n",
    "r = requests.post(URL + catsearch, json=filters, headers=headers)\n",
    "\n",
    "# Print the results\n",
    "p(r.json())"
   ]
  },
  {
   "cell_type": "markdown",
   "metadata": {},
   "source": [
    "### Make and Post an Order"
   ]
  },
  {
   "cell_type": "code",
   "execution_count": null,
   "metadata": {
    "scrolled": true
   },
   "outputs": [],
   "source": [
    "# Build the Order\n",
    "features = r.json()[\"features\"]\n",
    "granulelist = []\n",
    "\n",
    "# Loop over all the features from the response and add to an array for an order\n",
    "for f in features:\n",
    "    item = {\"CollectionId\": f[\"collection\"], \"GranuleId\": f[\"id\"]}\n",
    "    granulelist.append(item)\n",
    "\n",
    "myorder = {\"Items\": granulelist}\n",
    "\n",
    "# Post the order and inspect the result\n",
    "r = requests.post(URL + orders, json=myorder, headers=headers)\n",
    "p(r.json())"
   ]
  },
  {
   "cell_type": "markdown",
   "metadata": {},
   "source": [
    "### Get the STAC records with the signed URLs using the /download endpoint, Print the Result"
   ]
  },
  {
   "cell_type": "code",
   "execution_count": null,
   "metadata": {
    "scrolled": true
   },
   "outputs": [],
   "source": [
    "myorderid = r.json()[\"orderId\"]\n",
    "r = requests.get(URL + orders + myorderid + '/download', headers=headers)\n",
    "p(r.json())\n"
   ]
  },
  {
   "cell_type": "markdown",
   "metadata": {},
   "source": [
    "### Download the Results"
   ]
  },
  {
   "cell_type": "code",
   "execution_count": null,
   "metadata": {
    "scrolled": true
   },
   "outputs": [],
   "source": [
    "features = r.json()\n",
    "\n",
    "# Local directory to save data; Update to preference\n",
    "basefp = 'C:/data/rotterdam/' \n",
    "\n",
    "for feature in features:\n",
    "\n",
    "    filepath = feature[\"assets\"][\"HH\"][\"href\"]\n",
    "    filename = filepath[filepath.rfind(\"/\")+1:]\n",
    "    sep = \"?\"\n",
    "    truncname = filename.split(sep, 1)[0]\n",
    "    \n",
    "    outfp = basefp + truncname\n",
    "    \n",
    "    with requests.get(filepath, stream=True) as result:\n",
    "        result.raise_for_status()\n",
    "        with open(outfp, 'wb') as f:\n",
    "            for chunk in result.iter_content(chunk_size=10000000):\n",
    "                f.write(chunk)    \n"
   ]
  },
  {
   "cell_type": "code",
   "execution_count": null,
   "metadata": {},
   "outputs": [],
   "source": []
  }
 ],
 "metadata": {
  "kernelspec": {
   "display_name": "Python 3",
   "language": "python",
   "name": "python3"
  },
  "language_info": {
   "codemirror_mode": {
    "name": "ipython",
    "version": 3
   },
   "file_extension": ".py",
   "mimetype": "text/x-python",
   "name": "python",
   "nbconvert_exporter": "python",
   "pygments_lexer": "ipython3",
   "version": "3.7.6"
  }
 },
 "nbformat": 4,
 "nbformat_minor": 4
}
