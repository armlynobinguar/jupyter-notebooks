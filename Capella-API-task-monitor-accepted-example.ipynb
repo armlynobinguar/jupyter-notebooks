{
 "cells": [
  {
   "cell_type": "markdown",
   "metadata": {},
   "source": [
    "# Capella API: Task and Status Check Example"
   ]
  },
  {
   "cell_type": "code",
   "execution_count": 27,
   "metadata": {},
   "outputs": [],
   "source": [
    "# Required libraries:\n",
    "# requests\n",
    "# json"
   ]
  },
  {
   "cell_type": "markdown",
   "metadata": {},
   "source": [
    "Your username and password must be saved in a .json file named 'credentials.json' and formatted as follows.\n",
    "\n",
    "{\"username\": \"yourusername\",\"password\": \"xxxxxxxxx\"}"
   ]
  },
  {
   "cell_type": "markdown",
   "metadata": {},
   "source": [
    "### Import required libraries, build a print utility function, assign API endpoints and load Credentials"
   ]
  },
  {
   "cell_type": "code",
   "execution_count": 28,
   "metadata": {},
   "outputs": [
    {
     "data": {
      "text/plain": [
       "'david.hemphill@capellaspace.com'"
      ]
     },
     "execution_count": 28,
     "metadata": {},
     "output_type": "execute_result"
    }
   ],
   "source": [
    "import requests\n",
    "import json\n",
    "from datetime import datetime, timedelta\n",
    "\n",
    "# Capella API endpoints\n",
    "URL = 'https://api.capellaspace.com'\n",
    "token = '/token'\n",
    "task = '/task'\n",
    "collects_list = '/collects/list/'\n",
    "collects = '/collects/'\n",
    "\n",
    "#Load username and password\n",
    "with open('../credentials.json') as f:\n",
    "    data = json.load(f)\n",
    "    username = data['username']\n",
    "    password = data['password']\n",
    "username"
   ]
  },
  {
   "cell_type": "markdown",
   "metadata": {},
   "source": [
    "### Get and Print Access Token"
   ]
  },
  {
   "cell_type": "code",
   "execution_count": 29,
   "metadata": {},
   "outputs": [
    {
     "name": "stdout",
     "output_type": "stream",
     "text": [
      "Access Token: eyJraWQiOiJCeFdcL0tmZ0QzK3pwVlRBSFZ2NlBnNXRtWjVpOXRYTm8zaDkycFwvT0VONXc9IiwiYWxnIjoiUlMyNTYifQ.eyJzdWIiOiJhMTkzMWQ5ZS0xNTY0LTQ2ZDUtYjEwZi1hZGE0NDQyYWNlZDQiLCJldmVudF9pZCI6IjIwNzY3OTIxLTNlYjYtNDZkMC05N2MzLTY1ZDVjZjdjNzUyMCIsInRva2VuX3VzZSI6ImFjY2VzcyIsInNjb3BlIjoiYXdzLmNvZ25pdG8uc2lnbmluLnVzZXIuYWRtaW4iLCJhdXRoX3RpbWUiOjE2NTE2MzExMjYsImlzcyI6Imh0dHBzOlwvXC9jb2duaXRvLWlkcC51cy13ZXN0LTIuYW1hem9uYXdzLmNvbVwvdXMtd2VzdC0yXzJmNFBGWThoOCIsImV4cCI6MTY1MTYzNDcyNSwiaWF0IjoxNjUxNjMxMTI2LCJqdGkiOiJmN2FhZGNhMC01YTFmLTRmNmYtYWNlNi02Mjk1NjNlYTkwNmYiLCJjbGllbnRfaWQiOiIxMGlxZTdiZmp2a2lhMnBzdG9vNzhqaWo5MSIsInVzZXJuYW1lIjoiYzJlYTg4MzEtNmFjYy00ZWM0LWFmZGQtNWUxYjU0N2U5ZWYxIn0.KR9tEvo3MTVF050jeSNnie750QFLrmk89pYvzq2zPWPkNHFM2spuhsSILGctC5QuzICwW1cFatxGvNiul29cNQPmxsHqwziDtAWC25BsJHLHoNO8jY8-yVSbr7_coXJR6HZVjZwH_sI2uUStX3f_NqS1oI4Vz9q0mL1yvE4MCIrbCiLGMepilJxacL1UipYZpSEQah3BFQj8xW86aqwqwoYwSTQtog-H-fFqTd0sys-IOWBl6TZnKop1uXJrJdOVqzLNMFqapY2RJcPN3hPr4pEqXokVjCALHP7Aw8kgCt8odJut_xzIJnutxvsHqsVUBS2nuRGFWNDIgMNmIZYeoQ\n"
     ]
    }
   ],
   "source": [
    "#Get the token\n",
    "r = requests.post(URL + token, \n",
    "                  headers = {'Content-Type': 'application/x-www-form-urlencoded'}, auth=(username,password))\n",
    "\n",
    "accesstoken = r.json()[\"accessToken\"]\n",
    "\n",
    "# Print the token\n",
    "print(\"Access Token: \" + accesstoken)\n",
    "\n",
    "headers = {'Content-Type': 'application/json',\n",
    "  'Accept': 'application/geo+json', 'Authorization':'Bearer ' + accesstoken}"
   ]
  },
  {
   "cell_type": "code",
   "execution_count": 30,
   "metadata": {},
   "outputs": [],
   "source": [
    "### Is tasked Accepted or Completed (or Rejected/Failed)"
   ]
  },
  {
   "cell_type": "code",
   "execution_count": 31,
   "metadata": {},
   "outputs": [],
   "source": [
    "# This is to check the tasking status and obtain a collect id.\n",
    "# If you already have a collect_id, you may proceed to the \n",
    "# \"Check collect status\" section below\n",
    "\n",
    "#Set a tasking id\n",
    "taskingrequestId = 'abbddade-888b-4f03-8d55-b08365cac4dd'"
   ]
  },
  {
   "cell_type": "code",
   "execution_count": 32,
   "metadata": {},
   "outputs": [
    {
     "name": "stdout",
     "output_type": "stream",
     "text": [
      "Calling https://api.capellaspace.com/task/abbddade-888b-4f03-8d55-b08365cac4dd\n"
     ]
    },
    {
     "data": {
      "text/plain": [
       "{'time': '2022-05-04T01:46:07.215Z',\n",
       " 'code': 'accepted',\n",
       " 'message': 'Request can be completely satisfied during validity window.'}"
      ]
     },
     "execution_count": 32,
     "metadata": {},
     "output_type": "execute_result"
    }
   ],
   "source": [
    "# Check the task status - run this as desired\n",
    "#\n",
    "# Possible status:\n",
    "#\n",
    "# received   : Request has been received by the system for cost estimation and/or mission awareness. \n",
    "#              at this stage is has not been submitted for scheduling.\n",
    "# review     : task is awaiting review before submitting\n",
    "# submitted  : task is awaiting scheduling (runs every 15 minutes)\n",
    "# active     : Request is attempting to be scheduled, but we cannot yet guarantee full completion at this time \n",
    "#              no opportunity found yet and/or close_window of task is not within the scheduling horizon\n",
    "# accepted   : task is accepted for collect and committed to collection window\n",
    "# rejected   : task cannot be collected within the specified window\n",
    "# completed  : task is completed and collect delivered to catalog\n",
    "# anomaly    : An anomaly occurred during collect that prevents full completion of the tasking request\n",
    "# expired    : We have been able to determine that by the end of the request we \n",
    "#              will not be able to fully collect AOI.\t\n",
    "# canceled   : Customer canceled the task - will not be collected\n",
    "# error      : An error occurred during processing and ingestion of the request\n",
    "\n",
    "call_url = URL + task + \"/\" + taskingrequestId\n",
    "print(\"Calling %s\" % call_url)\n",
    "r = requests.get(call_url, headers=headers)\n",
    "response = r.json()\n",
    "\n",
    "#Current status is at the front of the array\n",
    "statusHistory = response[\"properties\"][\"statusHistory\"]\n",
    "current_status = statusHistory[0]\n",
    "current_status"
   ]
  },
  {
   "cell_type": "markdown",
   "metadata": {},
   "source": [
    "### Get the collect id"
   ]
  },
  {
   "cell_type": "code",
   "execution_count": 36,
   "metadata": {},
   "outputs": [
    {
     "name": "stdout",
     "output_type": "stream",
     "text": [
      "Calling https://api.capellaspace.com/collects/list/abbddade-888b-4f03-8d55-b08365cac4dd\n"
     ]
    },
    {
     "data": {
      "text/plain": [
       "'f67a23a2-fb60-4794-b887-c1139e2b9d34'"
      ]
     },
     "execution_count": 36,
     "metadata": {},
     "output_type": "execute_result"
    }
   ],
   "source": [
    "# After a task is accepted, it is assigned a collect id\n",
    "# IMPORTANT: \n",
    "#    The collect id becomes the primary reference id to find \n",
    "#    it in catalog after it is collected - and to place an order for download\n",
    "# Once the task is \"accepted\" the collect life cycle takes over until the task is completed or fails due to anomaly\n",
    "\n",
    "call_url = URL + collects_list + taskingrequestId\n",
    "print(\"Calling %s\" % call_url)\n",
    "r = requests.get(call_url, headers=headers)\n",
    "response = r.json()\n",
    "collectId = \"No collect id available until task is accepted.\"\n",
    "if len(response) > 0: \n",
    "    collectId = response[0]['collectId'] # only 1 collect expected\n",
    "collectId"
   ]
  },
  {
   "cell_type": "markdown",
   "metadata": {},
   "source": [
    "### Check collect status"
   ]
  },
  {
   "cell_type": "code",
   "execution_count": 37,
   "metadata": {},
   "outputs": [
    {
     "name": "stdout",
     "output_type": "stream",
     "text": [
      "Calling https://api.capellaspace.com/collects/f67a23a2-fb60-4794-b887-c1139e2b9d34\n",
      "tasked: 2022-05-04T12:35:11.233Z\n"
     ]
    }
   ],
   "source": [
    "# After a task is accepted, each collect has it's own lifecycle inside of the task request\n",
    "# It is possible for a collect to be rescheduled inside the tasking window\n",
    "# Also, for area collects, there are multiple collects within the single tasking request\n",
    "# Use this call to monitor progress for specific progress. Key status are defined below:\n",
    "#\n",
    "# predicted : task is committed for collect within the open/close window with a predicted collect time\n",
    "# tasked    : task is aboard the spacecraft waiting for collect\n",
    "# collected : task is collected but still on board the spacecraft waiting for downlink to ground station\n",
    "# processing: collect is downlinked and being processed\n",
    "# qa        : collect is in the QA check phase\n",
    "# delivered : collect is delivered an accessible from catalog\n",
    "# anomaly   : anomaly occurred, collect not delivered\n",
    "\n",
    "call_url = URL + collects + collectId\n",
    "print(\"Calling %s\" % call_url)\n",
    "r = requests.get(call_url, headers=headers)\n",
    "response = r.json()\n",
    "collectStatusHistory = response['collectStatusHistory']\n",
    "status = collectStatusHistory[0]['code']\n",
    "if 'predicted' == status:\n",
    "    details = response['windowOpen']\n",
    "print(\"%s: %s\" % (status, details))"
   ]
  },
  {
   "cell_type": "code",
   "execution_count": 38,
   "metadata": {},
   "outputs": [
    {
     "data": {
      "text/plain": [
       "{'center': [-46.29031399997777, -23.969320343167823, 4.643904152367414],\n",
       " 'centerEcef': [4029477.890316235, -4215180.877762907, -2575180.695444918],\n",
       " 'spacecraftId': 3,\n",
       " 'collectId': 'f67a23a2-fb60-4794-b887-c1139e2b9d34',\n",
       " 'tileId': 'f05b4e5c-4b42-4f68-8860-a2c3092858b4',\n",
       " 'tileGroupId': '91d5fd28-f1ba-4fb2-95bc-ba3e9c88d7ec',\n",
       " 'taskingrequestId': 'abbddade-888b-4f03-8d55-b08365cac4dd',\n",
       " 'repeatrequestId': None,\n",
       " 'windowOpen': '2022-05-04T12:35:10.996Z',\n",
       " 'windowClose': '2022-05-04T12:35:32.139Z',\n",
       " 'windowDuration': 21.142661,\n",
       " 'accessProperties': {'ascdsc': 'descending',\n",
       "  'lookDirection': 'left',\n",
       "  'localTime': 34193,\n",
       "  'azimuthOpen': 298.05131973427416,\n",
       "  'azimuthClose': 263.92075335537294,\n",
       "  'elevationMin': 61.431043,\n",
       "  'elevationMax': 62.584245,\n",
       "  'offNadirMin': 25.216787,\n",
       "  'offNadirMax': 26.261705},\n",
       " 'collectProperties': {'collectDuration': 21.142661721302865,\n",
       "  'imageLength': 5000,\n",
       "  'imageWidth': 5000,\n",
       "  'grr': 0.6511493077515484,\n",
       "  'azr': 0.5,\n",
       "  'bandwidth': None,\n",
       "  'nesz': -19.652909201202448,\n",
       "  'meanSquint': -4.350998804242091e-12,\n",
       "  'polarization': 'HH'},\n",
       " 'collectStatusHistory': [{'time': '2022-05-04T02:03:59.116Z',\n",
       "   'code': 'tasked',\n",
       "   'message': 'Collection of image has been incorporated into a schedule and uplinked to spacecraft.'},\n",
       "  {'time': '2022-05-04T01:41:37.676Z',\n",
       "   'code': 'predicted',\n",
       "   'message': 'Collect created'}]}"
      ]
     },
     "execution_count": 38,
     "metadata": {},
     "output_type": "execute_result"
    }
   ],
   "source": [
    "response"
   ]
  }
 ],
 "metadata": {
  "kernelspec": {
   "display_name": "Python 3 (ipykernel)",
   "language": "python",
   "name": "python3"
  },
  "language_info": {
   "codemirror_mode": {
    "name": "ipython",
    "version": 3
   },
   "file_extension": ".py",
   "mimetype": "text/x-python",
   "name": "python",
   "nbconvert_exporter": "python",
   "pygments_lexer": "ipython3",
   "version": "3.9.7"
  }
 },
 "nbformat": 4,
 "nbformat_minor": 4
}
