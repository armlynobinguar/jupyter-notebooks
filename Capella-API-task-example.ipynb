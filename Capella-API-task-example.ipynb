{
 "cells": [
  {
   "cell_type": "markdown",
   "metadata": {},
   "source": [
    "# Capella API: Task and Status Check Example"
   ]
  },
  {
   "cell_type": "code",
   "execution_count": null,
   "metadata": {},
   "outputs": [],
   "source": [
    "# Required libraries:\n",
    "# requests\n",
    "# json"
   ]
  },
  {
   "cell_type": "markdown",
   "metadata": {},
   "source": [
    "Your username and password must be saved in a .json file named 'credentials.json' and formatted as follows.\n",
    "\n",
    "{\"username\": \"yourusername\",\"password\": \"xxxxxxxxx\"}"
   ]
  },
  {
   "cell_type": "markdown",
   "metadata": {},
   "source": [
    "### Import required libraries, build a print utility function, assign API endpoints and load Credentials"
   ]
  },
  {
   "cell_type": "code",
   "execution_count": 74,
   "metadata": {},
   "outputs": [
    {
     "data": {
      "text/plain": [
       "'david.hemphill@capellaspace.com'"
      ]
     },
     "execution_count": 74,
     "metadata": {},
     "output_type": "execute_result"
    }
   ],
   "source": [
    "import requests\n",
    "import json\n",
    "from datetime import datetime, timedelta\n",
    "\n",
    "# Capella API endpoints\n",
    "URL = 'https://api.capellaspace.com'\n",
    "token = '/token'\n",
    "task = '/task'\n",
    "collects_list = '/collects/list/'\n",
    "\n",
    "#Load username and password\n",
    "with open('../credentials.json') as f:\n",
    "    data = json.load(f)\n",
    "    username = data['username']\n",
    "    password = data['password']\n",
    "username"
   ]
  },
  {
   "cell_type": "markdown",
   "metadata": {},
   "source": [
    "### Get and Print Access Token"
   ]
  },
  {
   "cell_type": "code",
   "execution_count": 75,
   "metadata": {},
   "outputs": [
    {
     "name": "stdout",
     "output_type": "stream",
     "text": [
      "Access Token: eyJraWQiOiJCeFdcL0tmZ0QzK3pwVlRBSFZ2NlBnNXRtWjVpOXRYTm8zaDkycFwvT0VONXc9IiwiYWxnIjoiUlMyNTYifQ.eyJzdWIiOiJhMTkzMWQ5ZS0xNTY0LTQ2ZDUtYjEwZi1hZGE0NDQyYWNlZDQiLCJldmVudF9pZCI6IjM0OTQzNmQxLWMzNDctNGMzZS04NjIzLTBjZTRkYmU5ZDQwZiIsInRva2VuX3VzZSI6ImFjY2VzcyIsInNjb3BlIjoiYXdzLmNvZ25pdG8uc2lnbmluLnVzZXIuYWRtaW4iLCJhdXRoX3RpbWUiOjE2NTE2MjgwNjMsImlzcyI6Imh0dHBzOlwvXC9jb2duaXRvLWlkcC51cy13ZXN0LTIuYW1hem9uYXdzLmNvbVwvdXMtd2VzdC0yXzJmNFBGWThoOCIsImV4cCI6MTY1MTYzMTY2MywiaWF0IjoxNjUxNjI4MDYzLCJqdGkiOiI1NmYzMzk0Ny00NzY1LTQ2Y2ItYTI3NS1jZGJmOGY2MmM2ZWIiLCJjbGllbnRfaWQiOiIxMGlxZTdiZmp2a2lhMnBzdG9vNzhqaWo5MSIsInVzZXJuYW1lIjoiYzJlYTg4MzEtNmFjYy00ZWM0LWFmZGQtNWUxYjU0N2U5ZWYxIn0.GMutttfNF6w4bimQQhpeQScFsVAzsYmD3y99S9QVK8ZwveaJ-efeV4M-O-cmb_n54M6K3gdbXR42eGzVagT43eC4Qzkq9OzRlEneDPw-8J0SXGsV2FX5Zf8aTnn9AoaP8TCaJEjx1u04uxW41asFniYPg6Efk0QguuU1r2zEiYbMV-LIX2fRUPl_dtuiuPKiOhByMvoakKuHRc46VTsgJR5gVSYsZLoKqA-eAy3iDDhFqJstyFRO_2wVgfUFiDwqXlggZ_CdPlN01jNpykzUHt9V4LpFGFExgAheu7SBFNnHu1OGftsQ1TnzqIE2TvkZ_BteH9OlpgU7jufxsIHOMw\n"
     ]
    }
   ],
   "source": [
    "#Get the token\n",
    "r = requests.post(URL + token, \n",
    "                  headers = {'Content-Type': 'application/x-www-form-urlencoded'}, auth=(username,password))\n",
    "\n",
    "accesstoken = r.json()[\"accessToken\"]\n",
    "\n",
    "# Print the token\n",
    "print(\"Access Token: \" + accesstoken)\n",
    "\n",
    "headers = {'Content-Type': 'application/json',\n",
    "  'Accept': 'application/geo+json', 'Authorization':'Bearer ' + accesstoken}"
   ]
  },
  {
   "cell_type": "markdown",
   "metadata": {},
   "source": [
    "### Compute open and close dates"
   ]
  },
  {
   "cell_type": "code",
   "execution_count": 89,
   "metadata": {},
   "outputs": [],
   "source": [
    "# helper function to calcaulate and format window open/close\n",
    "# just run this and move on as it's called later on\n",
    "\n",
    "def compute_window_open(window_open_date, window_close_days):\n",
    "    window_close_date = window_open_date + timedelta(days=window_close_days)\n",
    "    wo_str = datetime.strftime(window_open_date, \"%Y-%m-%dT%H:%M:%S.%fZ\")\n",
    "    wc_str = datetime.strftime(window_close_date, \"%Y-%m-%dT%H:%M:%S.%fZ\")\n",
    "    return wo_str, wc_str"
   ]
  },
  {
   "cell_type": "code",
   "execution_count": null,
   "metadata": {},
   "outputs": [],
   "source": []
  },
  {
   "cell_type": "markdown",
   "metadata": {},
   "source": [
    "### Set key variables for tasking"
   ]
  },
  {
   "cell_type": "code",
   "execution_count": 91,
   "metadata": {},
   "outputs": [
    {
     "name": "stdout",
     "output_type": "stream",
     "text": [
      "Window Open : 2022-05-03T20:41:05.935308Z\n",
      "Window Close: 2022-05-04T20:41:05.935308Z\n"
     ]
    }
   ],
   "source": [
    "# lon_lat = [4.449528, 51.894330]   #Required\n",
    "lon_lat = [-46.290314,-23.969401]   #Required\n",
    "task_request_name = \"Rotterdam\"   #Required\n",
    "task_request_description = \"For tasking example\" #Optional - displays in task status page on console\n",
    "collectMode = \"spotlight\" #Required: spotlight, sliding_spotlight, stripmap\n",
    "collectionTier = \"1_day\" #Required: 1_day, 3_day, or 7_day\n",
    "# IMPORTANT: The window open/close must match or be larger than the collectionTier days\n",
    "# e.g., 1_day > 24 hours. 3_day > 3 days, etc.\n",
    "\n",
    "# date object for the window_open. Could be now or a future date. days=0 is now    \n",
    "window_open_date = datetime.now() + timedelta(days=0)\n",
    "\n",
    "# number of days past the open date to specifiy for window_close\n",
    "window_duration = 1    \n",
    "\n",
    "# Test and show output\n",
    "wo_str, wc_str = compute_window_open(window_open_date, window_duration)\n",
    "print(\"Window Open : %s\" % wo_str )\n",
    "print(\"Window Close: %s\" % wc_str )\n",
    "window_open = wo_str\n",
    "window_close = wc_str\n",
    "\n",
    "# Add analytics by including a processingConfig property. The following adds Vessel Detection\n",
    "#   \"processingConfig\": {\"productTypes\": [\"VS\"]},"
   ]
  },
  {
   "cell_type": "markdown",
   "metadata": {},
   "source": [
    "### Create the tasking payload"
   ]
  },
  {
   "cell_type": "code",
   "execution_count": 92,
   "metadata": {},
   "outputs": [
    {
     "data": {
      "text/plain": [
       "{'type': 'Feature',\n",
       " 'geometry': {'type': 'Point', 'coordinates': [-46.290314, -23.969401]},\n",
       " 'properties': {'taskingrequestName': 'Rotterdam',\n",
       "  'taskingrequestDescription': 'For tasking example',\n",
       "  'windowOpen': '2022-05-03T20:41:05.935308Z',\n",
       "  'windowClose': '2022-05-04T20:41:05.935308Z',\n",
       "  'collectionTier': '1_day',\n",
       "  'collectConstraints': {'collectMode': 'spotlight'},\n",
       "  'preApproval': True}}"
      ]
     },
     "execution_count": 92,
     "metadata": {},
     "output_type": "execute_result"
    }
   ],
   "source": [
    "payload = {\n",
    "    \"type\": \"Feature\",\n",
    "    \"geometry\": {\n",
    "        \"type\": \"Point\",\n",
    "        \"coordinates\": lon_lat\n",
    "      },\n",
    "      \"properties\": {\n",
    "        \"taskingrequestName\": \"%s\" % task_request_name,\n",
    "        \"taskingrequestDescription\": \"%s\" % task_request_description,\n",
    "        \"windowOpen\": \"%s\" % window_open,\n",
    "        \"windowClose\": \"%s\" % window_close,\n",
    "        \"collectionTier\": \"%s\" % collectionTier,\n",
    "        \"collectConstraints\": {\n",
    "          \"collectMode\": \"%s\" % collectMode\n",
    "        },\n",
    "        \"preApproval\": True\n",
    "      }\n",
    "    }\n",
    "payload"
   ]
  },
  {
   "cell_type": "markdown",
   "metadata": {},
   "source": [
    "### Post the task"
   ]
  },
  {
   "cell_type": "code",
   "execution_count": 93,
   "metadata": {},
   "outputs": [
    {
     "name": "stdout",
     "output_type": "stream",
     "text": [
      "POST to https://api.capellaspace.com/task\n",
      "{\n",
      "  \"type\": \"Feature\",\n",
      "  \"geometry\": {\n",
      "    \"type\": \"Point\",\n",
      "    \"coordinates\": [\n",
      "      -46.290314,\n",
      "      -23.969401\n",
      "    ]\n",
      "  },\n",
      "  \"properties\": {\n",
      "    \"submissionTime\": \"2022-05-04T01:41:31.972Z\",\n",
      "    \"taskingrequestId\": \"abbddade-888b-4f03-8d55-b08365cac4dd\",\n",
      "    \"taskingrequestName\": \"Rotterdam\",\n",
      "    \"taskingrequestDescription\": \"For tasking example\",\n",
      "    \"orgId\": \"64405d54-9fa6-474e-85fb-7862a5cc3891\",\n",
      "    \"userId\": \"c2ea8831-6acc-4ec4-afdd-5e1b547e9ef1\",\n",
      "    \"repeatrequestId\": null,\n",
      "    \"windowOpen\": \"2022-05-03T20:41:05.935Z\",\n",
      "    \"windowDuration\": 86400,\n",
      "    \"windowClose\": \"2022-05-04T20:41:05.935Z\",\n",
      "    \"collectionTier\": \"1_day\",\n",
      "    \"archiveHoldback\": \"none\",\n",
      "    \"statusHistory\": [\n",
      "      {\n",
      "        \"time\": \"2022-05-04T01:41:31.972Z\",\n",
      "        \"code\": \"received\",\n",
      "        \"message\": \"Request created\"\n",
      "      }\n",
      "    ],\n",
      "    \"collectConstraints\": {\n",
      "      \"lookDirection\": \"either\",\n",
      "      \"ascDsc\": \"either\",\n",
      "      \"orbitalPlanes\": [],\n",
      "      \"localTime\": [\n",
      "        [\n",
      "          0,\n",
      "          86400\n",
      "        ]\n",
      "      ],\n",
      "      \"offNadirMin\": 25,\n",
      "      \"offNadirMax\": 40,\n",
      "      \"elevationMin\": 0,\n",
      "      \"elevationMax\": 90,\n",
      "      \"collectMode\": \"spotlight\",\n",
      "      \"imageLength\": 5000,\n",
      "      \"imageWidth\": 5000,\n",
      "      \"squint\": 0,\n",
      "      \"azimuth\": null,\n",
      "      \"grrMin\": 0.5,\n",
      "      \"grrMax\": 0.7,\n",
      "      \"srrMin\": 0.1,\n",
      "      \"srrMax\": 1,\n",
      "      \"azrMin\": 0.5,\n",
      "      \"azrMax\": 0.5,\n",
      "      \"neszMax\": -10,\n",
      "      \"numLooks\": 9,\n",
      "      \"polarization\": \"HH\",\n",
      "      \"prfMin\": 10000,\n",
      "      \"radarParameters\": {\n",
      "        \"prf\": null,\n",
      "        \"bandwidth\": 500000000,\n",
      "        \"centerFrequency\": null,\n",
      "        \"mode\": null\n",
      "      },\n",
      "      \"duration\": null\n",
      "    },\n",
      "    \"billingEnvironment\": \"default\",\n",
      "    \"preApproval\": true,\n",
      "    \"type\": \"spotlight\"\n",
      "  }\n",
      "}\n"
     ]
    }
   ],
   "source": [
    "call_url = URL + task\n",
    "print(\"POST to %s\" % call_url)\n",
    "r = requests.post(call_url, json=payload, headers=headers)\n",
    "response = r.json()\n",
    "p(response)"
   ]
  },
  {
   "cell_type": "markdown",
   "metadata": {},
   "source": [
    "### Check tasking status"
   ]
  },
  {
   "cell_type": "code",
   "execution_count": 94,
   "metadata": {
    "scrolled": true
   },
   "outputs": [
    {
     "data": {
      "text/plain": [
       "'abbddade-888b-4f03-8d55-b08365cac4dd'"
      ]
     },
     "execution_count": 94,
     "metadata": {},
     "output_type": "execute_result"
    }
   ],
   "source": [
    "# Get the taskingrequestId\n",
    "taskingrequestId = response[\"properties\"][\"taskingrequestId\"]\n",
    "taskingrequestId"
   ]
  },
  {
   "cell_type": "code",
   "execution_count": 107,
   "metadata": {},
   "outputs": [
    {
     "name": "stdout",
     "output_type": "stream",
     "text": [
      "Calling https://api.capellaspace.com/task/abbddade-888b-4f03-8d55-b08365cac4dd\n"
     ]
    },
    {
     "data": {
      "text/plain": [
       "{'time': '2022-05-04T01:46:07.215Z',\n",
       " 'code': 'accepted',\n",
       " 'message': 'Request can be completely satisfied during validity window.'}"
      ]
     },
     "execution_count": 107,
     "metadata": {},
     "output_type": "execute_result"
    }
   ],
   "source": [
    "# Check the status - run this as needed to watch progression of status\n",
    "call_url = URL + task + \"/\" + taskingrequestId\n",
    "print(\"Calling %s\" % call_url)\n",
    "r = requests.get(call_url, headers=headers)\n",
    "response = r.json()\n",
    "\n",
    "#Current status is at the front of the array\n",
    "statusHistory = response[\"properties\"][\"statusHistory\"]\n",
    "current_status = statusHistory[0]\n",
    "current_status"
   ]
  },
  {
   "cell_type": "markdown",
   "metadata": {},
   "source": [
    "### Get the collect id"
   ]
  },
  {
   "cell_type": "code",
   "execution_count": 106,
   "metadata": {},
   "outputs": [
    {
     "name": "stdout",
     "output_type": "stream",
     "text": [
      "Calling https://api.capellaspace.com/collects/list/abbddade-888b-4f03-8d55-b08365cac4dd\n"
     ]
    },
    {
     "data": {
      "text/plain": [
       "'f67a23a2-fb60-4794-b887-c1139e2b9d34'"
      ]
     },
     "execution_count": 106,
     "metadata": {},
     "output_type": "execute_result"
    }
   ],
   "source": [
    "# After a task is accepted, it is assigned a collect id\n",
    "# The collect id becomes the primary reference id to find \n",
    "# it in catalog after it is collected - and to place an order for download\n",
    "\n",
    "call_url = URL + collects_list + taskingrequestId\n",
    "print(\"Calling %s\" % call_url)\n",
    "r = requests.get(call_url, headers=headers)\n",
    "response = r.json()\n",
    "collectId = \"No collect id available until task is accepted.\"\n",
    "if len(response) > 0: \n",
    "    collectId = response[0]['collectId'] # only 1 collect expected\n",
    "collectId"
   ]
  },
  {
   "cell_type": "code",
   "execution_count": null,
   "metadata": {},
   "outputs": [],
   "source": []
  },
  {
   "cell_type": "code",
   "execution_count": null,
   "metadata": {},
   "outputs": [],
   "source": []
  }
 ],
 "metadata": {
  "kernelspec": {
   "display_name": "Python 3 (ipykernel)",
   "language": "python",
   "name": "python3"
  },
  "language_info": {
   "codemirror_mode": {
    "name": "ipython",
    "version": 3
   },
   "file_extension": ".py",
   "mimetype": "text/x-python",
   "name": "python",
   "nbconvert_exporter": "python",
   "pygments_lexer": "ipython3",
   "version": "3.9.7"
  }
 },
 "nbformat": 4,
 "nbformat_minor": 4
}
